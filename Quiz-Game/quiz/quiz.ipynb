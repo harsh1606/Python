{
 "cells": [
  {
   "cell_type": "code",
   "execution_count": 21,
   "metadata": {},
   "outputs": [],
   "source": [
    "f=open(\"data_set.txt\",encoding='utf-8')\n",
    "data=f.read()\n",
    "f.close()"
   ]
  },
  {
   "cell_type": "code",
   "execution_count": 22,
   "metadata": {},
   "outputs": [
    {
     "name": "stdout",
     "output_type": "stream",
     "text": [
      "['\\ufeff1. Which one of the following would not be considered as a form of secondary storage?\\n(a) Floppy Disk \\n(b) Optical Disk \\n(c) RAM \\n(d) Flash Drive \\n(e) Hard Disk \\n(c)', '2. The Processor is an example of computer–\\n(a) Software \\n(b) Output Unit \\n(c) Storage \\n(d) Program \\n(e) Hardware \\n(e)', '3. A hexadecimal number is a number to the base–\\n(a) 2 \\n(b) 20 \\n(c) 16 \\n(d) 4 \\n(e) 8 \\n(c)', '4. Java in computer programming is a–\\n(a) Compiler \\n(b) Hardware Device Driver \\n(c) Low-level Language\\n(d) High-level Language \\n(e) Programming Mid-level Language \\n(d)', '5. Which of the following is not a binary number?\\n(a) 01010 \\n(b) 11111 \\n(c) 31121 \\n(d) 00000 \\n(e) 110110 \\n(c)', '6. What does the acronym WAN stand for?\\n(a) Widest Area Network \\n(b) Wild Area Network \\n(c) Wide Area Networking\\n(d) Wide Area. Network \\n(e) Wider Area Network \\n(d)', '7. FTP is an acronym for–\\n(a) File Transaction Protocol \\n(b) File Truncation Protocol \\n(c) File Translation Protocol\\n(d) File Transfer Protocol \\n(e) File Transmission Protocol \\n(d)', '8. Connections to the Internet using a phone line and a modem are called….. connections.\\n(a) Digital \\n(b) Dial-up \\n(c) Broadband \\n(d) Dish \\n(e) Both (b) and (c) \\n(b)', '9. Documents converted to….. can be published to the web.\\n(a) A doc file \\n(b) HTTP \\n(c) machine language \\n(d) HTML \\n(e) None of these \\n(b)', '10. What is extension of Microsoft Word document?\\n(a) txt \\n(b) doc \\n(c) ppt \\n(d) xls \\n(e) psd \\n(b)', '11. Outlook Express is a(n)–\\n(a) protocol \\n(b) Search Engine \\n(c) Browser \\n(d) Network \\n(e) E-mail Client \\n(e)', '12. Printers and screens in computer system are common form of–\\n(a) Processing device \\n(b) Computation units \\n(c) Input units\\n(d) Storage units \\n(e) Output units \\n(e)', '13. LSI in chip technology stands for–\\n(a) Large-Scale Internet \\n(b) Low-Scale Integration \\n(c) Low-Scale Internet\\n(d) Local-Scale Integration \\n(e) Large-Scale Integration \\n(e)', '14. Ctrl + n in MS word is used to–\\n(a) Save document \\n(b) Start Paragraph \\n(c) Open new document\\n(d) Close document \\n(e) Open a saved document \\n(c)', '15. Connections to other documents or to other locations within a website is known as–\\n(a) Hyper connects \\n(b) Plug-ins \\n(c) Hyperlinks \\n(d) Filters \\n(e) Bots \\n(c)', '16. Checking whether a program functions correctly and then correcting errors, it is known as–\\n(a) Error-proofing a program \\n(b) Default error-checking \\n(c) De-erroring\\n(d) Debugging \\n(e) Decoding \\n(d)', '17. Single-word reference to viruses, worms etc. is–\\n(a) harmware \\n(b) virus \\n(c) phish \\n(d) malware \\n(e) killer war \\n(d)', '18. Converting the computer language of 1’s and 0’s to characters, that can be understood is known as…...\\n(a) Selecting \\n(b) Creating clip-art \\n(c) Decoding \\n(d) Generating \\n(e) Highlighting \\n(c)', '19. Storage that returns its data after the power is turned off is referred’ to as–\\n(a) Sequential storage \\n(b) Direct storage \\n(c) Non-destructive storage\\n(d) Non-volatile storage \\n(e) Volatile storage \\n(d)', '20. A compiler in computing means–\\n(a) A programmer. \\n(b) A person who compiles source program. \\n(c) Keypunch operator\\n(d) A gaming software \\n(e) A program which translates source program into object program \\n(e)', '21. What is Windows Vista?\\n(a) Processor \\n(b) Output Device \\n(c) Storage Device\\n(d) Input Device \\n(e) Operating System \\n(e)', '22. Which of the following is not an operating system used in computer?\\n(a) Windows 95 \\n(b) Windows 2000 \\n(c) MS-DOS\\n(d) Windows 3.1 \\n(e) Windows 98 \\n(d)', '23. “DTP” is a computer abbreviation usually means–\\n(a) Digital Transmission Protocol \\n(b) Desktop Publishing \\n(c) Document Type Processing\\n(d) Document Transfer Processing \\n(e) Data Type Programming \\n(b)', '24. Which of the following is equivalent roughly to 1 billion bytes?\\n(a) One kilobyte \\n(b) One Terabyte \\n(c) One Gigabyte\\n(d) One Megabyte \\n(e) One Megabit \\n(c)', '25. The ALU and Control unit, jointly is known as–\\n(a) RAM \\n(b) CPU \\n(c) PC \\n(d) EPROM \\n(e) ROM \\n(b)', '26. The….. port resembles a standard phone jack.\\n(a) Fire wire \\n(b) modem \\n(c) peripheral \\n(d) serial \\n(e) None of these \\n(b)', '27. The ALU performs….. operations.\\n(a) arithmetic \\n(b) ASCII \\n(c) algorithm-based \\n(d) logarithm-based \\n(e) None of above \\n(a)', '28. A group of related records in a database is called a(n)–\\n(a) object \\n(b) memo \\n(c) table \\n(d) record \\n(e) None of these \\n(c)', '29. What is the generation of computers which are built with microprocessors?\\n(a) third \\n(b) fourth \\n(c) first \\n(d) second \\n(e) prior to first \\n(b)', '30. The digital telecommunication term ISDN is an abbreviation for\\n(a) Internet Services Data Network \\n(b) International Services Digital Network\\n(c) Integrated Services Digital Network \\n(d) Interactive Standard Dynamic Networks\\n(e) Integrated Standard Digital Networks \\n(c)', '31. How to specify cell range from A10 to A 25 in MS Excel?\\n(a) (A10-A25) \\n(b) (A10 to A25) \\n(c) (A10 : A25) \\n(d) (A10 . A25) \\n(e) (A10 A25) \\n(c)', '32. If you change Windows 98 operating system to Windows XP, then it is known as–\\n(a) Update \\n(b) Patch \\n(c) Pull down \\n(d) Push up \\n(e) Upgrade \\n(e)', '33. ALU and control unit of most of the computers are combined and are embedded on a single .\\n(a) Monochip \\n(b) Control unit \\n(c) Microprocessor \\n(d) ALU \\n(e) Microfilm \\n(c)', '34. QWERTY is used with reference to–\\n(a) Printer \\n(b) Monitor \\n(c) Keyboard \\n(d) Mouse \\n(e) Joystick \\n(c)', '35. Where does most data go first with’ in a computer memory hierarchy?\\n(a) RAM \\n(b) ROM \\n(c) BIOS \\n(d) CACHE \\n(e) None of these \\n(a)', '36. A result of a computer virus can not lead to–\\n(a) Disk Crash \\n(b) Mother Board Crash \\n(c) Corruption of program\\n(d) Deletion of files \\n(e) None of above \\n(b)', '37. Which of the following extensions suggest that the file is a backup copy–\\n(a) Bak \\n(b) Bas \\n(c) Com \\n(d) Txt \\n(e) None of these \\n(a)', '38. Which of the following storage media provides sequential access only?\\n(a) Floppy disk \\n(b) Magnetic disk \\n(c) Magnetic tape \\n(d) Optical disk \\n(e) None of above \\n(a)', '39. The….. becomes different shapes depending on the task you are performing.\\n(a) Active tab \\n(b) Insertion point \\n(c) Mouse pointer \\n(d) Ribbon \\n(e) None of above \\n(c)', '40. Any data or instruction entered into the memory of a computer is considered as–\\n(A) storage \\n(B) output \\n(C) input \\n(D) information \\n(E) None of these \\n(A)', '41. One of the methods for Market Monitoring is–\\n(A) to watch TV serials \\n(B) to discuss with other sales persons\\n(C) to monitor media outlets \\n(D) All of these \\n(E) None of these \\n(C)', '42. Sources of Sales Leads are–\\n(A) Data Mining \\n(B) Market Research \\n(C) Media Outlets\\n(D) Promotional Programs \\n(E) All of these \\n(E)', '43. Promotion in Marketing means–\\n(A) passing an examination \\n(B) elevation from one grade to another\\n(C) selling the products through various means \\n(D) selling the product in specific areas\\n(E) All of these \\n(C)', '44. The Target Group for Education Loans is–\\n(A) All colleges \\n(B) all parents \\n(C) research scholars\\n(D) meritorious students seeking higher education \\n(E) all of these \\n(D)', '45. How many different documents can you have open at any one time ?\\n(A) Not more than three \\n(B) Only one \\n(C) As many as your computer memory will hold\\n(D) No more than your Taskbar can display \\n(E) None of these \\n(D)', '46. A ‘Target Group’ means–\\n(A) a group of sellers \\n(B) a group of buyers \\n(C) a group of products\\n(D) a group of persons to whom sales should be focused \\n(E) All of these \\n(D)', '47. Market Segmentation means–\\n(A) segmenting the salesmen \\n(B) segmenting the employees\\n(C) segmenting the customers as per their needs\\n(D) segmenting the products \\n(E) All of these \\n(C)', '48. Value-added services mean–\\n(A) Additional cost \\n(B) Additional production \\n(C) Additional staff\\n(D) Additional services \\n(E) All of these \\n(D)', '49. Marketing channels mean–\\n(A) Delivery time \\n(B) Delivery period \\n(C) Sales outlets\\n(D) Purchase outlets \\n(E) All of these \\n(C)', '50. Good selling skill calls for–\\n(A) Patience \\n(B) Perseverance \\n(C) Persuasion\\n(D) Pursuit \\n(E) All of these \\n(E)', '51. To ‘‘close a call’’ means–\\n(A) To clinch the sales \\n(B) To abandon the sales \\n(C) To lose the business\\n(D) To annoy the customer \\n(E) To exit from the sales team \\n(A)', '52. To make the number pad act as directional arrows, you press the ............ key.\\n(A) shift \\n(B) arrow lock \\n(C) num lock \\n(D) caps lock \\n(E) None of these \\n(C)', '53. You use a (n) ....... such as a keyboard or mouse, to input information.\\n(A) storage device \\n(B) processing device \\n(C) input device\\n(D) output device \\n(E) None of these \\n(C)', '54. ............ allows voice conversations to travel over the Internet.\\n(A) Internet telephony \\n(B) Instant messaging \\n(C) E-mail\\n(D) E-commerce \\n(E) None of these \\n(A)', '55. Which of the following is not true about computer files ?\\n(A) They are collections of data saved to a storage medium\\n(B) Every file has a file name\\n(C) A file extension is established by the user to indicate the file’s contents\\n(D) All files contain data \\n(E) None of these \\n(C)', '56. To move to the beginning of a line of text, press the ............ key.\\n(A) pageup \\n(B) a \\n(C) home \\n(D) enter \\n(E) None of these \\n(C)', '57. The contents of ............ are lost when the computer turns off.\\n(A) storage \\n(B) input \\n(C) output \\n(D) memory \\n(E) None of these \\n(D)', '58. When you turn on the computer, the boot routine will perform this test–\\n(A) RAM test \\n(B) disk drive test \\n(C) memory test\\n(D) power-on self-test \\n(E) None of these \\n(B)', '59. When you save to this, your data will remain intact even when the computer is turned off–\\n(A) RAM \\n(B) motherboard \\n(C) secondary storage device\\n(D) primary storage device \\n(E) None of these \\n(C)', '60. Antivirus software is an example of–\\n(A) business software \\n(B) an operating system \\n(C) a security utility\\n(D) an office suite \\n(E) None of these \\n(C)', '61. Marketing in banks is a necessity today, due to–\\n(A) Liberalisation \\n(B) Nationalisation \\n(C) Fashion  \\n(D) Urbanisation\\n(E) Marketing in banks is not necessary, as banking in India is more than 200 years old \\n(A)', '62. The main system board of a computer is called the–\\n(A) integrated circuit \\n(B) motherboard \\n(C) processor \\n(D) microchip \\n(E) None of these \\n(B)', '63. A(n) ............ backup contains a copy of every program, data, and system file on a computer.\\n(A) restoration \\n(B) bootstrap \\n(C) differential \\n(D) full \\n(E) None of these \\n(D)', '64. Target group means–\\n(A) all employees \\n(B) short-listed group \\n(C) all the marketing staff\\n(D) sales representatives \\n(E) group of people likely to buy the identified product \\n(E)\\n']\n"
     ]
    }
   ],
   "source": [
    "data=data.split(\"\\n\\n\")\n",
    "print(data)"
   ]
  },
  {
   "cell_type": "code",
   "execution_count": 23,
   "metadata": {},
   "outputs": [],
   "source": [
    "new_data=[]\n",
    "for d in data:\n",
    "    d=d.split(\"\\n\")\n",
    "    new_data.append(d)"
   ]
  },
  {
   "cell_type": "code",
   "execution_count": 24,
   "metadata": {},
   "outputs": [],
   "source": [
    "ques_list=[]\n",
    "ans_list=[]\n",
    "option_list=[]\n",
    "for d in new_data:\n",
    "    ques_list.append(d[0])\n",
    "    option_list.append(d[1:6])\n",
    "    ans_list.append(d[-1])\n"
   ]
  },
  {
   "cell_type": "code",
   "execution_count": 25,
   "metadata": {},
   "outputs": [],
   "source": [
    "dic={}\n",
    "for i in range(len(ques_list)):\n",
    "    dic[ques_list[i]]=(option_list[i],ans_list[i])"
   ]
  },
  {
   "cell_type": "code",
   "execution_count": 26,
   "metadata": {},
   "outputs": [
    {
     "data": {
      "text/plain": [
       "'(c)'"
      ]
     },
     "execution_count": 26,
     "metadata": {},
     "output_type": "execute_result"
    }
   ],
   "source": [
    "dic['\\ufeff1. Which one of the following would not be considered as a form of secondary storage?'][-1]"
   ]
  },
  {
   "cell_type": "code",
   "execution_count": 27,
   "metadata": {},
   "outputs": [],
   "source": [
    "import json"
   ]
  },
  {
   "cell_type": "code",
   "execution_count": 28,
   "metadata": {},
   "outputs": [],
   "source": [
    "f=open(\"q_bank.db\",\"w\")\n",
    "json.dump(dic,f)\n",
    "f.close()"
   ]
  },
  {
   "cell_type": "code",
   "execution_count": 2,
   "metadata": {},
   "outputs": [
    {
     "name": "stdout",
     "output_type": "stream",
     "text": [
      "Enter Your Name : a\n",
      "\n",
      "\n",
      "Rules -->\n",
      "1.for skip press ENTER \n",
      "2.\n"
     ]
    },
    {
     "ename": "SyntaxError",
     "evalue": "'break' outside loop (<ipython-input-2-c5d76095a0b3>, line 14)",
     "output_type": "error",
     "traceback": [
      "\u001b[1;36m  File \u001b[1;32m\"<ipython-input-2-c5d76095a0b3>\"\u001b[1;36m, line \u001b[1;32m14\u001b[0m\n\u001b[1;33m    break\u001b[0m\n\u001b[1;37m    ^\u001b[0m\n\u001b[1;31mSyntaxError\u001b[0m\u001b[1;31m:\u001b[0m 'break' outside loop\n"
     ]
    }
   ],
   "source": [
    "name=input(\"Enter Your Name : \")\n",
    "print(\"\\n\\nRules -->\\n1.for skip press ENTER \\n2.\")\n",
    "total_marks=0\n",
    "marks=1\n",
    "import json\n",
    "from threading import Timer\n",
    "\n",
    "f=open(\"q_bank.db\")\n",
    "data=json.load(f)\n",
    "f.close()\n",
    "for question in data:\n",
    "    def a():\n",
    "        print(\"Time over\")\n",
    "        break\n",
    "    timer = threading.Timer(3.0,a)\n",
    "    timer.start()\n",
    "    print(question)\n",
    "    for var in range(5):\n",
    "        print(data[question][0][var])\n",
    "    ch=input(\"\\nYour Answer\").lower()\n",
    "    if data[question][1]==f\"({ch})\":\n",
    "        total_marks+=marks\n",
    "    else:\n",
    "        pass\n",
    "    \n",
    "    \n",
    "print(\"\\n\\n\")\n",
    "print(f\"{name} scorecard\")\n",
    "print(\"Correct Question -->\",total_marks)\n",
    "print(\"Incorrect Question -->\",len(data)-total_marks)\n",
    "print(\"Total marks-->\",total_marks)"
   ]
  },
  {
   "cell_type": "code",
   "execution_count": 3,
   "metadata": {},
   "outputs": [],
   "source": [
    "import threading\n"
   ]
  },
  {
   "cell_type": "code",
   "execution_count": null,
   "metadata": {},
   "outputs": [],
   "source": [
    "def g():\n",
    "    print()\n",
    "timer=threading.Timer(3,g)\n",
    "timer.start()"
   ]
  },
  {
   "cell_type": "code",
   "execution_count": 30,
   "metadata": {},
   "outputs": [],
   "source": [
    "import time"
   ]
  },
  {
   "cell_type": "code",
   "execution_count": 36,
   "metadata": {},
   "outputs": [
    {
     "data": {
      "text/plain": [
       "['_STRUCT_TM_ITEMS',\n",
       " '__doc__',\n",
       " '__loader__',\n",
       " '__name__',\n",
       " '__package__',\n",
       " '__spec__',\n",
       " 'altzone',\n",
       " 'asctime',\n",
       " 'clock',\n",
       " 'ctime',\n",
       " 'daylight',\n",
       " 'get_clock_info',\n",
       " 'gmtime',\n",
       " 'localtime',\n",
       " 'mktime',\n",
       " 'monotonic',\n",
       " 'monotonic_ns',\n",
       " 'perf_counter',\n",
       " 'perf_counter_ns',\n",
       " 'process_time',\n",
       " 'process_time_ns',\n",
       " 'sleep',\n",
       " 'strftime',\n",
       " 'strptime',\n",
       " 'struct_time',\n",
       " 'thread_time',\n",
       " 'thread_time_ns',\n",
       " 'time',\n",
       " 'time_ns',\n",
       " 'timezone',\n",
       " 'tzname']"
      ]
     },
     "execution_count": 36,
     "metadata": {},
     "output_type": "execute_result"
    }
   ],
   "source": [
    "dir(time)"
   ]
  },
  {
   "cell_type": "code",
   "execution_count": 40,
   "metadata": {},
   "outputs": [],
   "source": [
    "c=time.time()\n"
   ]
  },
  {
   "cell_type": "code",
   "execution_count": 53,
   "metadata": {},
   "outputs": [],
   "source": [
    "time.time?"
   ]
  },
  {
   "cell_type": "code",
   "execution_count": 52,
   "metadata": {},
   "outputs": [
    {
     "name": "stdout",
     "output_type": "stream",
     "text": [
      "1564553696.6708734\n",
      "434598.24918439536\n"
     ]
    }
   ],
   "source": [
    "print(c)\n",
    "print(d/3600)"
   ]
  },
  {
   "cell_type": "code",
   "execution_count": 50,
   "metadata": {},
   "outputs": [
    {
     "data": {
      "text/plain": [
       "'50'"
      ]
     },
     "execution_count": 50,
     "metadata": {},
     "output_type": "execute_result"
    }
   ],
   "source": [
    "(time.ctime()[14:16])"
   ]
  },
  {
   "cell_type": "code",
   "execution_count": 69,
   "metadata": {},
   "outputs": [
    {
     "name": "stdout",
     "output_type": "stream",
     "text": [
      "adfa\n",
      "0\n",
      "1\n",
      "2\n",
      "3\n"
     ]
    }
   ],
   "source": [
    "\n",
    "def g():\n",
    "    \n",
    "    for i in range(4):\n",
    "        print(i)\n",
    "        \n",
    "def h():\n",
    "    print(\"adfa\")\n",
    "from threading import Timer\n",
    "timer=Timer(5,g)\n",
    "timer.start()\n",
    "h()\n",
    "\n",
    "\n"
   ]
  },
  {
   "cell_type": "code",
   "execution_count": null,
   "metadata": {},
   "outputs": [],
   "source": [
    "name=input(\"Enter Your Name : \")\n",
    "print(\"\\n\\nRules -->\\n1.for skip press ENTER \\n2.\")\n",
    "total_marks=0\n",
    "marks=1\n",
    "import json\n",
    "import time \n",
    "c=time.ctime\n",
    "f=open(\"q_bank.db\")\n",
    "data=json.load(f)\n",
    "f.close()\n",
    "for question in data:\n",
    "    print(question)\n",
    "    for var in range(5):\n",
    "        print(data[question][0][var])\n",
    "    ch=input(\"\\nYour Answer\").lower()\n",
    "    if data[question][1]==f\"({ch})\":\n",
    "        total_marks+=marks\n",
    "    else:\n",
    "        pass\n",
    "        \n",
    "print(\"\\n\\n\")\n",
    "print(f\"{name} scorecard\")\n",
    "print(\"Correct Question -->\",total_marks)\n",
    "print(\"Incorrect Question -->\",len(data)-total_marks)\n",
    "print(\"Total marks-->\",total_marks)"
   ]
  }
 ],
 "metadata": {
  "kernelspec": {
   "display_name": "Python 3",
   "language": "python",
   "name": "python3"
  },
  "language_info": {
   "codemirror_mode": {
    "name": "ipython",
    "version": 3
   },
   "file_extension": ".py",
   "mimetype": "text/x-python",
   "name": "python",
   "nbconvert_exporter": "python",
   "pygments_lexer": "ipython3",
   "version": "3.7.0"
  }
 },
 "nbformat": 4,
 "nbformat_minor": 2
}
