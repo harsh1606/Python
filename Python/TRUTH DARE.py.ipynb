{
 "cells": [
  {
   "cell_type": "code",
   "execution_count": null,
   "metadata": {},
   "outputs": [
    {
     "name": "stdout",
     "output_type": "stream",
     "text": [
      "WELCOME IN\n",
      "\u0007\n",
      "*******   * *** \n",
      "   *      *    *\n",
      "   *      *    *\n",
      "   *      *    *\n",
      "   *      * *** \n",
      "\n",
      "\u0007\n",
      "Enter names split with (,)\n",
      "sourabh,pankaj\n",
      "press p for play q for quit \tp\n",
      "selected person is --> pankaj\n",
      "Press \n",
      "T for TRUTH \n",
      "D for DARE\n",
      "t\n",
      "\u0007\n",
      " What is your deepest darkest fear?\n"
     ]
    }
   ],
   "source": [
    "from time import sleep\n",
    "print(\"WELCOME IN\")\n",
    "#sleep(1)\n",
    "print('\\a')\n",
    "i=0\n",
    "while i<5:\n",
    "    j=0\n",
    "    while j<7:\n",
    "        #print('\\a')\n",
    "        if(i==0 or j==3):\n",
    "            print(\"*\",end=\"\")\n",
    "        else:\n",
    "            print(\" \",end=\"\")\n",
    "        j+=1\n",
    "    while j<9:\n",
    "        #print('\\a')\n",
    "        print(\" \",end=\"\")\n",
    "        j+=1\n",
    "    sleep(1)\n",
    "    while j<16:\n",
    "        #print('\\a')\n",
    "        if j==10:\n",
    "            print(\"*\",end=\"\")\n",
    "        elif ((j==12 or j==13 or j==14)and (i==0 or i==4)):\n",
    "            print(\"*\",end=\"\")\n",
    "        elif (j==15 and (i==1 or i==2 or i==3)):\n",
    "            print(\"*\",end=\"\")\n",
    "        else:\n",
    "            print(\" \",end=\"\")\n",
    "        j+=1\n",
    "    \n",
    "    print(\"\")\n",
    "    i+=1\n",
    "print(\"\")\n",
    "print('\\a')\n",
    "from random import choice\n",
    "sleep(2)\n",
    "z=input(\"Enter names split with (,)\\n\").split(',')\n",
    "while True:\n",
    "    h=input(\"press p for play q for quit \\t\").upper()\n",
    "    if h==\"P\":\n",
    "    \n",
    "        tr=[\"Who is your crush?\",\" What is your deepest darkest fear?\",\"What is your biggest regret?\",\" Tell me about your most awkward date.\",\"What is the naughtiest thing you’ve done in public?\",\" What is the most expensive thing you have stolen?\",\" Why did you break up with your last boyfriend or girlfriend?\"]\n",
    "        da=[\"Let someone shave part of your body.\",\"Let someone shave part of your body.\",\"Attempt to break dance for 30 seconds.\",\"Do your best impression of a baby being born.\",\" For a guy, put on makeup. For a girl, wash off your make up.\",\"Give someone your phone and let them send one text to anyone in your contacts.\"]\n",
    "        print(\"selected person is -->\",choice(z))\n",
    "        \"\"\"i=input(\"Press \\nT for TRUTH \\nD for DARE\\n\").upper()\n",
    "        sleep(1)\n",
    "        print('\\a')\"\"\"\n",
    "        while True:\n",
    "            i=input(\"Press \\nT for TRUTH \\nD for DARE\\n\").upper()\n",
    "            sleep(1)\n",
    "            print('\\a')\n",
    "            if i==\"T\":\n",
    "                print(choice(tr))\n",
    "                break\n",
    "            elif i==\"D\":\n",
    "                print(choice(da))\n",
    "                break\n",
    "            else:\n",
    "                print(\"Wrong choice\")\n",
    "    else:\n",
    "        print(\"thanks for playing\")\n",
    "        break\n",
    "    "
   ]
  },
  {
   "cell_type": "code",
   "execution_count": null,
   "metadata": {},
   "outputs": [],
   "source": []
  },
  {
   "cell_type": "code",
   "execution_count": null,
   "metadata": {},
   "outputs": [],
   "source": []
  }
 ],
 "metadata": {
  "kernelspec": {
   "display_name": "Python 3",
   "language": "python",
   "name": "python3"
  },
  "language_info": {
   "codemirror_mode": {
    "name": "ipython",
    "version": 3
   },
   "file_extension": ".py",
   "mimetype": "text/x-python",
   "name": "python",
   "nbconvert_exporter": "python",
   "pygments_lexer": "ipython3",
   "version": "3.7.0"
  }
 },
 "nbformat": 4,
 "nbformat_minor": 2
}
